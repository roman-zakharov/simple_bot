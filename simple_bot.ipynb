{
 "cells": [
  {
   "cell_type": "markdown",
   "metadata": {},
   "source": [
    "# Simple bot"
   ]
  },
  {
   "cell_type": "code",
   "execution_count": 6,
   "metadata": {},
   "outputs": [],
   "source": [
    "#!pip install pymorphy2[fast]"
   ]
  },
  {
   "cell_type": "code",
   "execution_count": 200,
   "metadata": {},
   "outputs": [],
   "source": [
    "import string\n",
    "import nltk\n",
    "import annoy\n",
    "import numpy as np\n",
    "import tensorflow as tf\n",
    "from pymorphy2 import MorphAnalyzer\n",
    "from stop_words import get_stop_words\n",
    "from tqdm import tqdm_notebook\n",
    "from transformers import TFAutoModel, AutoTokenizer"
   ]
  },
  {
   "cell_type": "code",
   "execution_count": 199,
   "metadata": {},
   "outputs": [
    {
     "name": "stdout",
     "output_type": "stream",
     "text": [
      "\tвопрос о ТДВ)) давно и хорошо отдыхаем)) ЛИЧНО ВАМ здесь кого советовали завести?)) . \r\n",
      "Как парни относятся к цветным линзам? Если у девушки то зеленые глаза, то голубые...)) .\tменя вобще прикалывает эта тема :). \r\n",
      "Что делать, сегодня нашёл 2 миллиона рублей? .\tЕсли это \"счастье \" действительно на вас свалилось, лучше пойти в милицию и заявить о находке. Такие деньги просто так не терют, а что самое интересное их неприменно будут искать и поверьте мне найдут, видел подобное в жизни. Можно нарваться на бабушку конечно, которая хотела помоч внуку с покупкой квартиры, а можно на бандитов, которые будут с вами разговаривать иначе чем бабушка с милицией. Выбор за вами, есть еще конечно шанс, что это подарок с выше за котрый с вас никто не спросит, тогда лучше отдать хотябы 500 на благотворительность. дабы не спугнуть удачу!. \r\n"
     ]
    }
   ],
   "source": [
    "!head -3 prepared_answers.txt"
   ]
  },
  {
   "cell_type": "code",
   "execution_count": 17,
   "metadata": {},
   "outputs": [
    {
     "data": {
      "application/vnd.jupyter.widget-view+json": {
       "model_id": "078a45d3e6214b00bcd86157e7520a9c",
       "version_major": 2,
       "version_minor": 0
      },
      "text/plain": [
       "HBox(children=(HTML(value=''), FloatProgress(value=1.0, bar_style='info', layout=Layout(width='20px'), max=1.0…"
      ]
     },
     "metadata": {},
     "output_type": "display_data"
    },
    {
     "name": "stdout",
     "output_type": "stream",
     "text": [
      "\n"
     ]
    }
   ],
   "source": [
    "assert True\n",
    "\n",
    "#Small preprocess of the answers\n",
    "\n",
    "question = None\n",
    "written = False\n",
    "\n",
    "with open(\"prepared_answers.txt\", \"w\") as fout:\n",
    "    with open(\"Otvety.txt\", \"r\") as fin:\n",
    "        for line in tqdm_notebook(fin):\n",
    "            if line.startswith(\"---\"):\n",
    "                written = False\n",
    "                continue\n",
    "            if not written and question is not None:\n",
    "                fout.write(question.replace(\"\\t\", \" \").strip() + \"\\t\" + line.replace(\"\\t\", \" \"))\n",
    "                written = True\n",
    "                question = None\n",
    "                continue\n",
    "            if not written:\n",
    "                question = line.strip()\n",
    "                continue"
   ]
  },
  {
   "cell_type": "code",
   "execution_count": 74,
   "metadata": {},
   "outputs": [],
   "source": [
    "def preprocess_txt(line):\n",
    "    spls = \"\".join(i for i in line.strip() if i not in exclude).split()\n",
    "    spls = [morpher.parse(i.lower())[0].normal_form for i in spls]\n",
    "    spls = [i for i in spls if i not in sw and i != \"\"]\n",
    "    return ' '.join(spls)"
   ]
  },
  {
   "cell_type": "code",
   "execution_count": 31,
   "metadata": {},
   "outputs": [],
   "source": [
    "morpher = MorphAnalyzer()\n",
    "sw = set(get_stop_words(\"ru\") + nltk.corpus.stopwords.words('russian'))\n",
    "exclude = set(string.punctuation)"
   ]
  },
  {
   "cell_type": "code",
   "execution_count": 36,
   "metadata": {},
   "outputs": [
    {
     "data": {
      "application/vnd.jupyter.widget-view+json": {
       "model_id": "8cb7572391d943e5bf0e3beaa468b97c",
       "version_major": 2,
       "version_minor": 0
      },
      "text/plain": [
       "HBox(children=(FloatProgress(value=0.0, description='Downloading', max=659.0, style=ProgressStyle(description_…"
      ]
     },
     "metadata": {},
     "output_type": "display_data"
    },
    {
     "name": "stdout",
     "output_type": "stream",
     "text": [
      "\n"
     ]
    },
    {
     "data": {
      "application/vnd.jupyter.widget-view+json": {
       "model_id": "272d7d2819fa4d71afe61ce1307c584f",
       "version_major": 2,
       "version_minor": 0
      },
      "text/plain": [
       "HBox(children=(FloatProgress(value=0.0, description='Downloading', max=436212516.0, style=ProgressStyle(descri…"
      ]
     },
     "metadata": {},
     "output_type": "display_data"
    },
    {
     "name": "stdout",
     "output_type": "stream",
     "text": [
      "\n"
     ]
    },
    {
     "name": "stderr",
     "output_type": "stream",
     "text": [
      "Some layers from the model checkpoint at Geotrend/bert-base-ru-cased were not used when initializing TFBertModel: ['mlm___cls']\n",
      "- This IS expected if you are initializing TFBertModel from the checkpoint of a model trained on another task or with another architecture (e.g. initializing a BertForSequenceClassification model from a BertForPreTraining model).\n",
      "- This IS NOT expected if you are initializing TFBertModel from the checkpoint of a model that you expect to be exactly identical (initializing a BertForSequenceClassification model from a BertForSequenceClassification model).\n",
      "All the layers of TFBertModel were initialized from the model checkpoint at Geotrend/bert-base-ru-cased.\n",
      "If your task is similar to the task the model of the checkpoint was trained on, you can already use TFBertModel for predictions without further training.\n"
     ]
    },
    {
     "data": {
      "application/vnd.jupyter.widget-view+json": {
       "model_id": "6a5359dc5b63465a95b51dba99574805",
       "version_major": 2,
       "version_minor": 0
      },
      "text/plain": [
       "HBox(children=(FloatProgress(value=0.0, description='Downloading', max=49.0, style=ProgressStyle(description_w…"
      ]
     },
     "metadata": {},
     "output_type": "display_data"
    },
    {
     "name": "stdout",
     "output_type": "stream",
     "text": [
      "\n"
     ]
    },
    {
     "data": {
      "application/vnd.jupyter.widget-view+json": {
       "model_id": "89939f8aaf434a179d3f8da0b7570d72",
       "version_major": 2,
       "version_minor": 0
      },
      "text/plain": [
       "HBox(children=(FloatProgress(value=0.0, description='Downloading', max=132977.0, style=ProgressStyle(descripti…"
      ]
     },
     "metadata": {},
     "output_type": "display_data"
    },
    {
     "name": "stdout",
     "output_type": "stream",
     "text": [
      "\n"
     ]
    }
   ],
   "source": [
    "bert = TFAutoModel.from_pretrained(\"Geotrend/bert-base-ru-cased\")\n",
    "tokenizer = AutoTokenizer.from_pretrained(\"Geotrend/bert-base-ru-cased\")"
   ]
  },
  {
   "cell_type": "code",
   "execution_count": 42,
   "metadata": {},
   "outputs": [
    {
     "name": "stderr",
     "output_type": "stream",
     "text": [
      "<ipython-input-42-a19036b625f7>:5: TqdmDeprecationWarning: This function will be removed in tqdm==5.0.0\n",
      "Please use `tqdm.notebook.tqdm` instead of `tqdm.tqdm_notebook`\n",
      "  for line in tqdm_notebook(f):\n"
     ]
    },
    {
     "data": {
      "application/vnd.jupyter.widget-view+json": {
       "model_id": "fce0fcd7502646ba80021a04c26b986d",
       "version_major": 2,
       "version_minor": 0
      },
      "text/plain": [
       "HBox(children=(FloatProgress(value=1.0, bar_style='info', max=1.0), HTML(value='')))"
      ]
     },
     "metadata": {},
     "output_type": "display_data"
    },
    {
     "name": "stdout",
     "output_type": "stream",
     "text": [
      "\n"
     ]
    }
   ],
   "source": [
    "q_len = []\n",
    "a_len = []\n",
    "with open(\"prepared_answers.txt\", \"r\") as f:\n",
    "    counter = 0\n",
    "    for line in tqdm_notebook(f):\n",
    "        spls = line.split(\"\\t\")\n",
    "        q_len.append(len(spls[0].split()))\n",
    "        a_len.append(len(spls[1].split()))"
   ]
  },
  {
   "cell_type": "code",
   "execution_count": 47,
   "metadata": {},
   "outputs": [
    {
     "data": {
      "text/plain": [
       "(12.0, 20.454707214215595, 21.0, 31.0, 63.0, 862)"
      ]
     },
     "execution_count": 47,
     "metadata": {},
     "output_type": "execute_result"
    }
   ],
   "source": [
    "np.median(q_len), np.mean(q_len), np.quantile(q_len, 0.75), np.quantile(q_len, 0.85), np.quantile(q_len, 0.95), np.max(q_len)"
   ]
  },
  {
   "cell_type": "code",
   "execution_count": 163,
   "metadata": {},
   "outputs": [
    {
     "name": "stderr",
     "output_type": "stream",
     "text": [
      "<ipython-input-163-6fb6757690bf>:7: TqdmDeprecationWarning: This function will be removed in tqdm==5.0.0\n",
      "Please use `tqdm.notebook.tqdm` instead of `tqdm.tqdm_notebook`\n",
      "  for line in tqdm_notebook(f):\n"
     ]
    },
    {
     "data": {
      "application/vnd.jupyter.widget-view+json": {
       "model_id": "dcb8c10591294644a4e21ad42103b9a3",
       "version_major": 2,
       "version_minor": 0
      },
      "text/plain": [
       "HBox(children=(FloatProgress(value=1.0, bar_style='info', max=1.0), HTML(value='')))"
      ]
     },
     "metadata": {},
     "output_type": "display_data"
    },
    {
     "data": {
      "text/plain": [
       "True"
      ]
     },
     "execution_count": 163,
     "metadata": {},
     "output_type": "execute_result"
    }
   ],
   "source": [
    "bert_index = annoy.AnnoyIndex(768 , 'angular')\n",
    "\n",
    "index_map = {}\n",
    "counter = 0\n",
    "with open(\"prepared_answers.txt\", \"r\") as f:\n",
    "    for line in tqdm_notebook(f):\n",
    "        spls = line.split(\"\\t\")\n",
    "        if len(spls[0].split()) < 2 or len(spls[1].split()) < 3 or len(spls[0].split()) > 70:\n",
    "            continue\n",
    "        \n",
    "        index_map[counter] = spls[1]\n",
    "        question = preprocess_txt(spls[0])\n",
    "             \n",
    "        out_state = bert(**tok)[1].numpy()[0]\n",
    "        bert_index.add_item(counter, out_state)\n",
    "        counter += 1\n",
    "        \n",
    "        if counter > 20000:\n",
    "            break\n",
    "\n",
    "bert_index.build(10)"
   ]
  },
  {
   "cell_type": "code",
   "execution_count": 205,
   "metadata": {},
   "outputs": [],
   "source": [
    "def get_response(question, index, index_map):\n",
    "    question = preprocess_txt(question)\n",
    "    tok = tokenizer(question, return_token_type_ids=False, return_tensors='tf')\n",
    "    vector = bert(**tok)[1].numpy()[0]\n",
    "    answers = index.get_nns_by_vector(vector, 1)\n",
    "    return [index_map[i] for i in answers]"
   ]
  },
  {
   "cell_type": "code",
   "execution_count": 208,
   "metadata": {},
   "outputs": [
    {
     "data": {
      "text/plain": [
       "['Если Вы планируете путешествовать по России - то NAVITEL. У нее мощные карты, которые честно поддерживаются в актуальном состоянии. Если по Европе - IGO и TOMTOM. Но они частенько врут о состоянии пробок и пытаются переложить маршрут, объезжая затор, которого по факту нет.. \\n']"
      ]
     },
     "execution_count": 208,
     "metadata": {},
     "output_type": "execute_result"
    }
   ],
   "source": [
    "get_response(\"какой навигатор выбрать?\", bert_index_out, index_map)"
   ]
  },
  {
   "cell_type": "code",
   "execution_count": 211,
   "metadata": {},
   "outputs": [
    {
     "data": {
      "text/plain": [
       "['<p>«Принц» (англ.\\xa0The Prince)\\xa0— кинофильм, криминальный триллер режиссёра Брайана А. Миллера. Совместное производство США и Великобритания, 2014 год. </p> <h2>Сюжет</h2> <p>Скромный автомеханик Пол (Джейсон Патрик) из Миссисипи\\xa0— мужчина средних лет, тщательно скрывающий своё прошлое. Его дочь Бэт (Джина Мантенья), девушка старшего школьного возраста, неожиданно исчезает. Пол отправляется на её поиски. К нему присоединяется подруга Бэт Анджела (Джессика Лаундс). Выясняется, что девушка была связана с наркодилером по кличке «Фармацевт» (Кёртис Джеймс). Дальнейшие поиски ведут в Новый Орлеан к местному криминальному авторитету Омару (Брюс Уиллис)\\xa0— старому врагу главного героя. Двадцать лет назад, как выясняется, Пол был сотрудником спецслужбы и в ходе проведения боевой операции стал виновником гибели жены и маленькой дочери Омара. </p> <h2>В ролях</h2> <ul> <li>Джейсон Патрик\\xa0— Пол</li> <li>Брюс Уиллис\\xa0— Омар</li> <li>Джон Кьюсак\\xa0— Сэм</li> <li>Кёртис Джексон (50 Cent)\\xa0— «Фармацевт», наркодилер</li> <li>Рейн\\xa0— Марк</li> <li>Джессика Лаундс\\xa0— Анджела</li> <li>Джина Мантенья\\xa0— Бэт</li> <li>Джесси Пруэтт\\xa0— Уилсон</li> <li>Бонни Соммервиль\\xa0— Сьюзан</li> <li>Джонатон Шек\\xa0— Фрэнк</li></ul> <h2>Награды</h2> <h2>Критика</h2> <p>Критика фильма абсолютно негативна. Village Voice считает, что «триллер настолько плох, что самое примечательное, что есть в нём\\xa0— вступительные титры, содержащие список из 19 (!) исполнительных продюсеров». Variety в своей рецензии называет главную причину, по которой достаточно хорошие актёры Брюс Уиллис и Джон Кьюсак согласились на небольшие роли в столь плохом проекте,\\xa0— «продажность» (англ.\\xa0venality). Участие же в неосмысленных эпизодах «чёрного» рэпера Кёртиса Джеймса «50 Cent» и корейского поп-идола Чона Джихуна «Рейна» объясняет лишь необходимостью соблюдения установленного баланса в кинопроизводстве различных этносов. Обозреватель Los Angeles Times считает, что фильм имеет запах чего-то испорченного и обвиняет его в прямом копировании предыдущей работы режиссёра\\xa0— фильма «Изгой». Откровенно издевательский тон поддерживает Daily News (Нью-Йорк): «не моргайте, вы можете просмотреть сцену с Кёртисом Джеймсом» или «„Принц“ не просто ужасает, он удручает». </p> <p>Отзывы в российских изданиях схожи. Путеводитель по кино EvilGround: «Без пяти минут, худший фильм года &lt;…&gt; К ужасной картинке, постановке, тупому сюжету, актёрам, которые не хотят даже пытаться играть, добавляется ядерная нудность. Через двадцать минут смотреть становится невыносимо и эта невыносимость ощущается всем организмом». </p> <h2>Примечания</h2> <h2>Ссылки</h2> <ul> <li>«Принц»\\xa0(англ.) на сайте Internet Movie Database </li> <li>Принц\\xa0(англ.) на сайте allmovie </li> <li>Принц\\xa0(англ.) на сайте Rotten Tomatoes </li></ul>. \\n']"
      ]
     },
     "execution_count": 211,
     "metadata": {},
     "output_type": "execute_result"
    }
   ],
   "source": [
    "get_response(\"какие новые фильмы есть?\", bert_index_out, index_map)"
   ]
  },
  {
   "cell_type": "code",
   "execution_count": 212,
   "metadata": {},
   "outputs": [
    {
     "data": {
      "text/plain": [
       "['а нету и смотреть нефиг ((((((. \\n']"
      ]
     },
     "execution_count": 212,
     "metadata": {},
     "output_type": "execute_result"
    }
   ],
   "source": [
    "get_response(\"какие новые фильмы посмотреть?\", bert_index_out, index_map)"
   ]
  },
  {
   "cell_type": "code",
   "execution_count": 219,
   "metadata": {},
   "outputs": [
    {
     "data": {
      "text/plain": [
       "['В зоопарк. С завтрашнего дня часть музеев и некоторые сеансы в кино.. \\n']"
      ]
     },
     "execution_count": 219,
     "metadata": {},
     "output_type": "execute_result"
    }
   ],
   "source": [
    "get_response(\"куда сходить на юге Москвы?\", bert_index_out, index_map)"
   ]
  },
  {
   "cell_type": "code",
   "execution_count": null,
   "metadata": {},
   "outputs": [],
   "source": []
  }
 ],
 "metadata": {
  "kernelspec": {
   "display_name": "Python 3",
   "language": "python",
   "name": "python3"
  },
  "language_info": {
   "codemirror_mode": {
    "name": "ipython",
    "version": 3
   },
   "file_extension": ".py",
   "mimetype": "text/x-python",
   "name": "python",
   "nbconvert_exporter": "python",
   "pygments_lexer": "ipython3",
   "version": "3.8.3"
  }
 },
 "nbformat": 4,
 "nbformat_minor": 2
}
